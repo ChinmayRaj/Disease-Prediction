{
 "cells": [
  {
   "cell_type": "code",
   "execution_count": 1,
   "metadata": {},
   "outputs": [],
   "source": [
    "import pickle\n",
    "dbfile = open('symptoms_dictionary', 'rb')    \n",
    "db = pickle.load(dbfile)"
   ]
  },
  {
   "cell_type": "code",
   "execution_count": 2,
   "metadata": {},
   "outputs": [
    {
     "name": "stderr",
     "output_type": "stream",
     "text": [
      "c:\\Users\\Harshit Bajpai\\anaconda3\\lib\\site-packages\\sklearn\\base.py:310: UserWarning: Trying to unpickle estimator LogisticRegression from version 1.4.1.post1 when using version 0.24.2. This might lead to breaking code or invalid results. Use at your own risk.\n",
      "  warnings.warn(\n"
     ]
    }
   ],
   "source": [
    "model = pickle.load(open('model_lr.sav', 'rb'))"
   ]
  },
  {
   "cell_type": "code",
   "execution_count": null,
   "metadata": {},
   "outputs": [],
   "source": []
  },
  {
   "cell_type": "code",
   "execution_count": 3,
   "metadata": {},
   "outputs": [],
   "source": [
    "# for sample dataset\n",
    "pred=[]\n",
    "for i in range(0,1326):\n",
    "    pred.append(0)\n",
    "\n",
    "pred[5]=1\n",
    "pred[16]=1\n",
    "pred[134]=1\n"
   ]
  },
  {
   "cell_type": "markdown",
   "metadata": {},
   "source": [
    "# for sample dataset\n",
    "pred=[]\n",
    "for i in range(1,1327):\n",
    "    pred.append(0.0)\n",
    "pred[0]=1\n",
    "pred[1]=1\n",
    "pred[2]=1\n",
    "pred[3]=1\n",
    "pred[4]=1\n",
    "pred[5]=1\n",
    "pred[6]=1\n",
    "pred[7]=1\n"
   ]
  },
  {
   "cell_type": "code",
   "execution_count": 4,
   "metadata": {},
   "outputs": [],
   "source": [
    "import warnings\n",
    "from warnings import filterwarnings\n",
    "filterwarnings(\"ignore\")"
   ]
  },
  {
   "cell_type": "code",
   "execution_count": 5,
   "metadata": {},
   "outputs": [],
   "source": [
    "result=model.predict_proba([pred])\n",
    "\n"
   ]
  },
  {
   "cell_type": "code",
   "execution_count": 6,
   "metadata": {},
   "outputs": [],
   "source": [
    "result=result.reshape(-1)"
   ]
  },
  {
   "cell_type": "code",
   "execution_count": 7,
   "metadata": {},
   "outputs": [],
   "source": [
    "c=0\n",
    "res={}\n",
    "for i in db:\n",
    "    res[result[c]]=i\n",
    "    c+=1\n",
    "    "
   ]
  },
  {
   "cell_type": "code",
   "execution_count": 8,
   "metadata": {},
   "outputs": [],
   "source": [
    "\n",
    "myKeys = list(res.keys())\n",
    "myKeys.sort(reverse=True)\n",
    "sorted_dict = {i: res[i] for i in myKeys}\n",
    " \n"
   ]
  },
  {
   "cell_type": "code",
   "execution_count": 9,
   "metadata": {},
   "outputs": [
    {
     "name": "stdout",
     "output_type": "stream",
     "text": [
      "Endophthalmitis\n",
      "Aase syndrome\n",
      "High arch\n",
      "Dysarthria\n",
      "Chylomicronemia syndrome\n"
     ]
    }
   ],
   "source": [
    "c=1\n",
    "for i in sorted_dict:\n",
    "    print(f'{sorted_dict[i]}')\n",
    "    c+=1\n",
    "    if c>5:\n",
    "        break\n",
    "    "
   ]
  }
 ],
 "metadata": {
  "kernelspec": {
   "display_name": "Python 3",
   "language": "python",
   "name": "python3"
  },
  "language_info": {
   "codemirror_mode": {
    "name": "ipython",
    "version": 3
   },
   "file_extension": ".py",
   "mimetype": "text/x-python",
   "name": "python",
   "nbconvert_exporter": "python",
   "pygments_lexer": "ipython3",
   "version": "3.9.7"
  }
 },
 "nbformat": 4,
 "nbformat_minor": 2
}
